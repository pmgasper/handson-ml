{
 "cells": [
  {
   "cell_type": "markdown",
   "metadata": {},
   "source": [
    "# Chapter 8, exercise 9\n",
    "\n",
    "* Load MNIST\n",
    "  + usual MNIST split\n",
    "* Train random forest\n",
    "  + time\n",
    "  + evaluate\n",
    "* Pre-process data with PCA\n",
    "  + 95% variance\n",
    "* Re-train random forest\n",
    "  + time\n",
    "  + evaluate"
   ]
  },
  {
   "cell_type": "markdown",
   "metadata": {},
   "source": [
    "## Set up"
   ]
  },
  {
   "cell_type": "code",
   "execution_count": 1,
   "metadata": {},
   "outputs": [],
   "source": [
    "# To support both python 2 and python 3\n",
    "from __future__ import division, print_function, unicode_literals"
   ]
  },
  {
   "cell_type": "code",
   "execution_count": 2,
   "metadata": {},
   "outputs": [],
   "source": [
    "# Common imports\n",
    "import matplotlib.pyplot as plt\n",
    "import numpy as np\n",
    "import pandas as pd\n",
    "import seaborn as sns\n",
    "import scipy.stats as stats"
   ]
  },
  {
   "cell_type": "code",
   "execution_count": 3,
   "metadata": {},
   "outputs": [],
   "source": [
    "# Settings\n",
    "\n",
    "# Matplotlib\n",
    "%matplotlib inline\n",
    "plt.style.use('fivethirtyeight')\n",
    "plt.rcParams['figure.figsize'] = (6.0, 6.0)\n",
    "\n",
    "# Pandas\n",
    "pd.set_option('max_rows', 7)\n",
    "pd.set_option('max_columns', 50)\n",
    "\n",
    "# Numpy\n",
    "# np.random.seed(42)  # to make this notebook's output stable across runs"
   ]
  },
  {
   "cell_type": "markdown",
   "metadata": {},
   "source": [
    "## Data"
   ]
  },
  {
   "cell_type": "code",
   "execution_count": 4,
   "metadata": {},
   "outputs": [],
   "source": [
    "%%capture --no-stdout\n",
    "\n",
    "# Get data\n",
    "#   hide warning about future depracation of fetch_mldata with v 0.22\n",
    "\n",
    "# Impore MNIST data\n",
    "from sklearn.datasets import fetch_mldata\n",
    "mnist = fetch_mldata('MNIST original', )\n",
    "X, y = mnist['data'].astype(float), mnist['target'].astype(float)"
   ]
  },
  {
   "cell_type": "code",
   "execution_count": 5,
   "metadata": {},
   "outputs": [],
   "source": [
    "# Train / test split\n",
    "test_split = 60000\n",
    "\n",
    "X_train, y_train = X[:test_split], y[:test_split]\n",
    "X_test, y_test = X[test_split:], y[test_split:]"
   ]
  },
  {
   "cell_type": "markdown",
   "metadata": {},
   "source": [
    "## ML"
   ]
  },
  {
   "cell_type": "markdown",
   "metadata": {},
   "source": [
    "### Random Forest - no preprocessing"
   ]
  },
  {
   "cell_type": "code",
   "execution_count": 6,
   "metadata": {},
   "outputs": [],
   "source": [
    "# Classifier with hyperparameters from chapter 7 exercise 8\n",
    "from sklearn.ensemble import RandomForestClassifier\n",
    "\n",
    "rf_clf = RandomForestClassifier(n_estimators=50, max_leaf_nodes=None, \n",
    "                                max_features='sqrt', criterion='gini', \n",
    "                                oob_score=True, n_jobs=-1)"
   ]
  },
  {
   "cell_type": "code",
   "execution_count": 7,
   "metadata": {},
   "outputs": [
    {
     "name": "stdout",
     "output_type": "stream",
     "text": [
      "12 s ± 708 ms per loop (mean ± std. dev. of 3 runs, 1 loop each)\n"
     ]
    }
   ],
   "source": [
    "# Time training\n",
    "rf_nopca_time = %timeit -n 1 -r 3 -t -o rf_clf.fit(X_train, y_train)"
   ]
  },
  {
   "cell_type": "code",
   "execution_count": 8,
   "metadata": {},
   "outputs": [
    {
     "data": {
      "text/plain": [
       "0.9665"
      ]
     },
     "execution_count": 8,
     "metadata": {},
     "output_type": "execute_result"
    }
   ],
   "source": [
    "# Assess training\n",
    "from sklearn.metrics import accuracy_score\n",
    "\n",
    "y_pred = rf_clf.predict(X_test)\n",
    "rf_nopca_acc = accuracy_score(y_test, y_pred)\n",
    "rf_nopca_acc"
   ]
  },
  {
   "cell_type": "markdown",
   "metadata": {},
   "source": [
    "### Random Forest - with PCA preprocessing"
   ]
  },
  {
   "cell_type": "code",
   "execution_count": 9,
   "metadata": {},
   "outputs": [],
   "source": [
    "from sklearn.decomposition import PCA\n",
    "pca_decomp = PCA(n_components=0.95)"
   ]
  },
  {
   "cell_type": "code",
   "execution_count": 10,
   "metadata": {},
   "outputs": [
    {
     "name": "stdout",
     "output_type": "stream",
     "text": [
      "8.05 s ± 829 ms per loop (mean ± std. dev. of 3 runs, 1 loop each)\n"
     ]
    }
   ],
   "source": [
    "# Time PCA training\n",
    "pca_time = %timeit -n 1 -r 3 -t -o pca_decomp.fit(X_train)"
   ]
  },
  {
   "cell_type": "code",
   "execution_count": 11,
   "metadata": {},
   "outputs": [
    {
     "data": {
      "text/plain": [
       "0.9501960192613031"
      ]
     },
     "execution_count": 11,
     "metadata": {},
     "output_type": "execute_result"
    }
   ],
   "source": [
    "# Check observed variance\n",
    "np.cumsum(pca_decomp.explained_variance_ratio_)[-1]"
   ]
  },
  {
   "cell_type": "code",
   "execution_count": 12,
   "metadata": {},
   "outputs": [],
   "source": [
    "# Project test sets onto pca\n",
    "X_train_reduced = pca_decomp.transform(X_train)\n",
    "X_test_reduced = pca_decomp.transform(X_test)"
   ]
  },
  {
   "cell_type": "code",
   "execution_count": 13,
   "metadata": {},
   "outputs": [
    {
     "name": "stdout",
     "output_type": "stream",
     "text": [
      "16.9 s ± 1.14 s per loop (mean ± std. dev. of 3 runs, 1 loop each)\n"
     ]
    }
   ],
   "source": [
    "# Time training with reduced data\n",
    "rf_pca_time = %timeit -n 1 -r 3 -t -o rf_clf.fit(X_train_reduced, y_train)"
   ]
  },
  {
   "cell_type": "code",
   "execution_count": 14,
   "metadata": {},
   "outputs": [],
   "source": [
    "# Assess training\n",
    "y_pred = rf_clf.predict(X_test_reduced)\n",
    "rf_pca_acc = accuracy_score(y_test, y_pred)"
   ]
  },
  {
   "cell_type": "markdown",
   "metadata": {},
   "source": [
    "### Random Forest - with randomized PCA preprocessing"
   ]
  },
  {
   "cell_type": "code",
   "execution_count": 15,
   "metadata": {},
   "outputs": [
    {
     "name": "stdout",
     "output_type": "stream",
     "text": [
      "5.35 s ± 137 ms per loop (mean ± std. dev. of 3 runs, 1 loop each)\n"
     ]
    }
   ],
   "source": [
    "# Time randomized PCA training\n",
    "\n",
    "d = len(pca_decomp.components_)\n",
    "rand_pca_decomp = PCA(n_components=d, svd_solver='randomized')\n",
    "rand_pca_time = %timeit -n 1 -r 3 -t -o rand_pca_decomp.fit(X_train)"
   ]
  },
  {
   "cell_type": "code",
   "execution_count": 16,
   "metadata": {},
   "outputs": [
    {
     "data": {
      "text/plain": [
       "0.9498438689881573"
      ]
     },
     "execution_count": 16,
     "metadata": {},
     "output_type": "execute_result"
    }
   ],
   "source": [
    "# Check observed variance\n",
    "np.cumsum(rand_pca_decomp.explained_variance_ratio_)[-1]"
   ]
  },
  {
   "cell_type": "code",
   "execution_count": 17,
   "metadata": {},
   "outputs": [],
   "source": [
    "# Project test sets onto pca\n",
    "X_train_randreduced = rand_pca_decomp.transform(X_train)\n",
    "X_test_randreduced = rand_pca_decomp.transform(X_test)"
   ]
  },
  {
   "cell_type": "code",
   "execution_count": 18,
   "metadata": {},
   "outputs": [
    {
     "name": "stdout",
     "output_type": "stream",
     "text": [
      "18.3 s ± 128 ms per loop (mean ± std. dev. of 3 runs, 1 loop each)\n"
     ]
    }
   ],
   "source": [
    "# Time training with reduced data\n",
    "rf_randpca_time = %timeit -n 1 -r 3 -t -o rf_clf.fit(X_train_randreduced, y_train)"
   ]
  },
  {
   "cell_type": "code",
   "execution_count": 19,
   "metadata": {},
   "outputs": [],
   "source": [
    "# Assess training\n",
    "y_pred = rf_clf.predict(X_test_randreduced)\n",
    "rf_randpca_acc = accuracy_score(y_test, y_pred)"
   ]
  },
  {
   "cell_type": "markdown",
   "metadata": {},
   "source": [
    "### Compare random forest results"
   ]
  },
  {
   "cell_type": "code",
   "execution_count": 20,
   "metadata": {},
   "outputs": [
    {
     "name": "stdout",
     "output_type": "stream",
     "text": [
      "Random forest - no pca:\n",
      "  Time (rf):   12.04 +/- 0.71\n",
      "  Accuracy: 0.97\n",
      "\n",
      "Random forest - with pca:\n",
      "  Time (pca):   8.05 +/- 0.83\n",
      "  Time (rf):   16.86 +/- 1.14\n",
      "  Accuracy: 0.94\n",
      "\n",
      "Random forest - with random pca:\n",
      "  Time (pca):   5.35 +/- 0.14\n",
      "  Time (rf):   18.32 +/- 0.13\n",
      "  Accuracy: 0.94\n"
     ]
    }
   ],
   "source": [
    "# Compare results\n",
    "print('Random forest - no pca:')\n",
    "print('  Time (rf): {0:>7.2f} +/- {1:.2f}'.format(rf_nopca_time.average, \n",
    "                                                  rf_nopca_time.stdev))\n",
    "print('  Accuracy: {0:.2f}'.format(rf_nopca_acc))\n",
    "print()\n",
    "\n",
    "print('Random forest - with pca:')\n",
    "print('  Time (pca): {0:>6.2f} +/- {1:.2f}'.format(pca_time.average, \n",
    "                                                   pca_time.stdev))\n",
    "print('  Time (rf): {0:>7.2f} +/- {1:.2f}'.format(rf_pca_time.average, \n",
    "                                                  rf_pca_time.stdev))\n",
    "print('  Accuracy: {0:.2f}'.format(rf_pca_acc))\n",
    "print()\n",
    "\n",
    "print('Random forest - with random pca:')\n",
    "print('  Time (pca): {0:>6.2f} +/- {1:.2f}'.format(rand_pca_time.average, \n",
    "                                                   rand_pca_time.stdev))\n",
    "print('  Time (rf): {0:>7.2f} +/- {1:.2f}'.format(rf_randpca_time.average, \n",
    "                                                  rf_randpca_time.stdev))\n",
    "print('  Accuracy: {0:.2f}'.format(rf_randpca_acc))"
   ]
  },
  {
   "cell_type": "markdown",
   "metadata": {},
   "source": [
    "### Softmax - logistic regression"
   ]
  },
  {
   "cell_type": "code",
   "execution_count": 21,
   "metadata": {},
   "outputs": [
    {
     "name": "stderr",
     "output_type": "stream",
     "text": [
      "/home/paul/Software/anaconda2/envs/ds36_env/lib/python3.6/site-packages/sklearn/linear_model/logistic.py:757: ConvergenceWarning: lbfgs failed to converge. Increase the number of iterations.\n",
      "  \"of iterations.\", ConvergenceWarning)\n",
      "/home/paul/Software/anaconda2/envs/ds36_env/lib/python3.6/site-packages/sklearn/linear_model/logistic.py:757: ConvergenceWarning: lbfgs failed to converge. Increase the number of iterations.\n",
      "  \"of iterations.\", ConvergenceWarning)\n"
     ]
    },
    {
     "name": "stdout",
     "output_type": "stream",
     "text": [
      "10.6 s ± 0 ns per loop (mean ± std. dev. of 1 run, 3 loops each)\n"
     ]
    },
    {
     "name": "stderr",
     "output_type": "stream",
     "text": [
      "/home/paul/Software/anaconda2/envs/ds36_env/lib/python3.6/site-packages/sklearn/linear_model/logistic.py:757: ConvergenceWarning: lbfgs failed to converge. Increase the number of iterations.\n",
      "  \"of iterations.\", ConvergenceWarning)\n"
     ]
    }
   ],
   "source": [
    "# Without pca\n",
    "from sklearn.linear_model import LogisticRegression\n",
    "\n",
    "softmax_clf = LogisticRegression(solver='lbfgs', multi_class='multinomial', \n",
    "                                 max_iter=100)\n",
    "\n",
    "sm_nopca_time = %timeit -n 3 -r 1 -t -o softmax_clf.fit(X_train, y_train)"
   ]
  },
  {
   "cell_type": "code",
   "execution_count": 22,
   "metadata": {},
   "outputs": [
    {
     "data": {
      "text/plain": [
       "0.9255"
      ]
     },
     "execution_count": 22,
     "metadata": {},
     "output_type": "execute_result"
    }
   ],
   "source": [
    "# Assess training\n",
    "y_pred = softmax_clf.predict(X_test)\n",
    "sm_nopca_acc = accuracy_score(y_test, y_pred)\n",
    "sm_nopca_acc"
   ]
  },
  {
   "cell_type": "code",
   "execution_count": 23,
   "metadata": {},
   "outputs": [
    {
     "name": "stderr",
     "output_type": "stream",
     "text": [
      "/home/paul/Software/anaconda2/envs/ds36_env/lib/python3.6/site-packages/sklearn/linear_model/logistic.py:757: ConvergenceWarning: lbfgs failed to converge. Increase the number of iterations.\n",
      "  \"of iterations.\", ConvergenceWarning)\n",
      "/home/paul/Software/anaconda2/envs/ds36_env/lib/python3.6/site-packages/sklearn/linear_model/logistic.py:757: ConvergenceWarning: lbfgs failed to converge. Increase the number of iterations.\n",
      "  \"of iterations.\", ConvergenceWarning)\n"
     ]
    },
    {
     "name": "stdout",
     "output_type": "stream",
     "text": [
      "3.61 s ± 0 ns per loop (mean ± std. dev. of 1 run, 3 loops each)\n"
     ]
    },
    {
     "name": "stderr",
     "output_type": "stream",
     "text": [
      "/home/paul/Software/anaconda2/envs/ds36_env/lib/python3.6/site-packages/sklearn/linear_model/logistic.py:757: ConvergenceWarning: lbfgs failed to converge. Increase the number of iterations.\n",
      "  \"of iterations.\", ConvergenceWarning)\n"
     ]
    }
   ],
   "source": [
    "# With pca\n",
    "sm_pca_time = %timeit -n 3 -r 1 -t -o softmax_clf.fit(X_train_reduced, y_train)"
   ]
  },
  {
   "cell_type": "code",
   "execution_count": 24,
   "metadata": {},
   "outputs": [
    {
     "data": {
      "text/plain": [
       "0.9201"
      ]
     },
     "execution_count": 24,
     "metadata": {},
     "output_type": "execute_result"
    }
   ],
   "source": [
    "# Assess training\n",
    "y_pred = softmax_clf.predict(X_test_reduced)\n",
    "sm_pca_acc = accuracy_score(y_test, y_pred)\n",
    "sm_pca_acc"
   ]
  },
  {
   "cell_type": "markdown",
   "metadata": {},
   "source": [
    "### Compare softmax results"
   ]
  },
  {
   "cell_type": "code",
   "execution_count": 25,
   "metadata": {},
   "outputs": [
    {
     "name": "stdout",
     "output_type": "stream",
     "text": [
      "Softmax - no pca:\n",
      "  Time (sm):   10.64 +/- 0.00\n",
      "  Accuracy: 0.97\n",
      "\n",
      "Softmax - with pca:\n",
      "  Time (pca):   8.05 +/- 0.83\n",
      "  Time (sm):    3.61 +/- 0.00\n",
      "  Accuracy: 0.94\n"
     ]
    }
   ],
   "source": [
    "# Compare results\n",
    "print('Softmax - no pca:')\n",
    "print('  Time (sm): {0:>7.2f} +/- {1:.2f}'.format(sm_nopca_time.average, \n",
    "                                                  sm_nopca_time.stdev))\n",
    "print('  Accuracy: {0:.2f}'.format(rf_nopca_acc))\n",
    "print()\n",
    "\n",
    "print('Softmax - with pca:')\n",
    "print('  Time (pca): {0:>6.2f} +/- {1:.2f}'.format(pca_time.average, \n",
    "                                                   pca_time.stdev))\n",
    "print('  Time (sm): {0:>7.2f} +/- {1:.2f}'.format(sm_pca_time.average, \n",
    "                                                  sm_pca_time.stdev))\n",
    "print('  Accuracy: {0:.2f}'.format(rf_pca_acc))"
   ]
  },
  {
   "cell_type": "code",
   "execution_count": null,
   "metadata": {},
   "outputs": [],
   "source": []
  }
 ],
 "metadata": {
  "kernelspec": {
   "display_name": "Python 3",
   "language": "python",
   "name": "python3"
  },
  "language_info": {
   "codemirror_mode": {
    "name": "ipython",
    "version": 3
   },
   "file_extension": ".py",
   "mimetype": "text/x-python",
   "name": "python",
   "nbconvert_exporter": "python",
   "pygments_lexer": "ipython3",
   "version": "3.6.3"
  },
  "varInspector": {
   "cols": {
    "lenName": 16,
    "lenType": 16,
    "lenVar": 40
   },
   "kernels_config": {
    "python": {
     "delete_cmd_postfix": "",
     "delete_cmd_prefix": "del ",
     "library": "var_list.py",
     "varRefreshCmd": "print(var_dic_list())"
    },
    "r": {
     "delete_cmd_postfix": ") ",
     "delete_cmd_prefix": "rm(",
     "library": "var_list.r",
     "varRefreshCmd": "cat(var_dic_list()) "
    }
   },
   "types_to_exclude": [
    "module",
    "function",
    "builtin_function_or_method",
    "instance",
    "_Feature"
   ],
   "window_display": false
  }
 },
 "nbformat": 4,
 "nbformat_minor": 2
}
