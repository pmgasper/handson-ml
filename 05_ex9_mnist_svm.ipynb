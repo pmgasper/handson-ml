{
 "cells": [
  {
   "cell_type": "markdown",
   "metadata": {},
   "source": [
    "Working through chapter 5 exercise 8\n",
    "\n",
    "Train a SVM on the MNIST dataset.\n",
    "* Use one-versus-all\n",
    "* Tune hyperparameters using small validation sets\n",
    "\n",
    "Using smaller training sets throughout to speed training for learning purposes. See results in chapter notebook for improvement on including the whole set."
   ]
  },
  {
   "cell_type": "markdown",
   "metadata": {},
   "source": [
    "### Setup"
   ]
  },
  {
   "cell_type": "code",
   "execution_count": 1,
   "metadata": {},
   "outputs": [],
   "source": [
    "import matplotlib.pyplot as plt\n",
    "import numpy as np\n",
    "import pandas as pd\n",
    "from scipy.stats import reciprocal, uniform\n",
    "import seaborn as sns\n",
    "from sklearn import datasets\n",
    "from sklearn.datasets import fetch_mldata\n",
    "from sklearn.datasets import fetch_openml\n",
    "from sklearn.linear_model import SGDClassifier\n",
    "from sklearn.metrics import accuracy_score\n",
    "from sklearn.model_selection import cross_val_score\n",
    "from sklearn.model_selection import GridSearchCV\n",
    "from sklearn.model_selection import RandomizedSearchCV\n",
    "from sklearn.model_selection import train_test_split\n",
    "from sklearn.pipeline import Pipeline\n",
    "from sklearn.preprocessing import StandardScaler\n",
    "from sklearn.svm import LinearSVC, SVC\n",
    "from sklearn.utils import shuffle"
   ]
  },
  {
   "cell_type": "code",
   "execution_count": 2,
   "metadata": {},
   "outputs": [],
   "source": [
    "pd.set_option('max_rows', 7)\n",
    "pd.set_option('max_columns', 50)\n",
    "\n",
    "%matplotlib inline\n",
    "plt.style.use('fivethirtyeight')"
   ]
  },
  {
   "cell_type": "markdown",
   "metadata": {},
   "source": [
    "### Data"
   ]
  },
  {
   "cell_type": "code",
   "execution_count": 3,
   "metadata": {},
   "outputs": [],
   "source": [
    "%%capture --no-stdout\n",
    "\n",
    "# Import MNIST data\n",
    "mnist = fetch_mldata('MNIST original', )\n",
    "X, y = mnist['data'].astype(float), mnist['target'].astype(float)\n",
    "\n",
    "# test / train split specified by MNIST\n",
    "split = 60000\n",
    "X_train, X_test, y_train, y_test = X[:split], X[split:], y[:split], y[split:]\n",
    "\n",
    "# Shuffle training order\n",
    "X_train, y_train = shuffle(X_train, y_train)\n",
    "\n",
    "# scale X\n",
    "scaler = StandardScaler()\n",
    "X_train_scaled = scaler.fit_transform(X_train)\n",
    "X_test_scaled = scaler.transform(X_test)"
   ]
  },
  {
   "cell_type": "markdown",
   "metadata": {},
   "source": [
    "### ML"
   ]
  },
  {
   "cell_type": "markdown",
   "metadata": {},
   "source": [
    "#### Linear SVC"
   ]
  },
  {
   "cell_type": "code",
   "execution_count": 4,
   "metadata": {},
   "outputs": [
    {
     "data": {
      "text/plain": [
       "array([0.76      , 0.68595041, 0.7394958 , 0.78991597, 0.80172414])"
      ]
     },
     "execution_count": 4,
     "metadata": {},
     "output_type": "execute_result"
    }
   ],
   "source": [
    "lin_clf = LinearSVC(penalty='l2', C=1, loss=\"hinge\", max_iter=10000, \n",
    "                    random_state=42)\n",
    "\n",
    "skip = 100   # subset for faster (though weaker) gridsearch\n",
    "cross_val_score(lin_clf, X_train_scaled[::skip], y_train[::skip], cv=5,\n",
    "                scoring=\"accuracy\")"
   ]
  },
  {
   "cell_type": "code",
   "execution_count": 6,
   "metadata": {},
   "outputs": [
    {
     "name": "stdout",
     "output_type": "stream",
     "text": [
      "best parameters {'C': 0.01}\n"
     ]
    },
    {
     "data": {
      "text/html": [
       "<div>\n",
       "<style scoped>\n",
       "    .dataframe tbody tr th:only-of-type {\n",
       "        vertical-align: middle;\n",
       "    }\n",
       "\n",
       "    .dataframe tbody tr th {\n",
       "        vertical-align: top;\n",
       "    }\n",
       "\n",
       "    .dataframe thead th {\n",
       "        text-align: right;\n",
       "    }\n",
       "</style>\n",
       "<table border=\"1\" class=\"dataframe\">\n",
       "  <thead>\n",
       "    <tr style=\"text-align: right;\">\n",
       "      <th></th>\n",
       "      <th>C</th>\n",
       "      <th>score</th>\n",
       "    </tr>\n",
       "  </thead>\n",
       "  <tbody>\n",
       "    <tr>\n",
       "      <th>1</th>\n",
       "      <td>0.01</td>\n",
       "      <td>0.825917</td>\n",
       "    </tr>\n",
       "    <tr>\n",
       "      <th>0</th>\n",
       "      <td>0.001</td>\n",
       "      <td>0.808609</td>\n",
       "    </tr>\n",
       "    <tr>\n",
       "      <th>2</th>\n",
       "      <td>1</td>\n",
       "      <td>0.784234</td>\n",
       "    </tr>\n",
       "    <tr>\n",
       "      <th>3</th>\n",
       "      <td>10</td>\n",
       "      <td>0.784234</td>\n",
       "    </tr>\n",
       "  </tbody>\n",
       "</table>\n",
       "</div>"
      ],
      "text/plain": [
       "       C     score\n",
       "1   0.01  0.825917\n",
       "0  0.001  0.808609\n",
       "2      1  0.784234\n",
       "3     10  0.784234"
      ]
     },
     "execution_count": 6,
     "metadata": {},
     "output_type": "execute_result"
    }
   ],
   "source": [
    "skip=50\n",
    "param_grid = {'C': [0.001, 0.01, 1, 10]}\n",
    "\n",
    "grid_search = GridSearchCV(lin_clf, param_grid, cv=5, iid=False, \n",
    "                           return_train_score=True)\n",
    "\n",
    "grid_search.fit(X_train_scaled[::skip], y_train[::skip])\n",
    "\n",
    "print('best parameters {0}'.format(grid_search.best_params_))\n",
    "\n",
    "cvres = pd.DataFrame(grid_search.cv_results_)\n",
    "cvres.rename({'param_C':'C', \n",
    "              'mean_test_score':'score'},\n",
    "             axis=1, inplace=True)\n",
    "cvres[['C', 'score']].sort_values(by='score', ascending=False)"
   ]
  },
  {
   "cell_type": "code",
   "execution_count": 7,
   "metadata": {},
   "outputs": [
    {
     "name": "stdout",
     "output_type": "stream",
     "text": [
      "best parameters {'C': 0.01}\n"
     ]
    },
    {
     "data": {
      "text/html": [
       "<div>\n",
       "<style scoped>\n",
       "    .dataframe tbody tr th:only-of-type {\n",
       "        vertical-align: middle;\n",
       "    }\n",
       "\n",
       "    .dataframe tbody tr th {\n",
       "        vertical-align: top;\n",
       "    }\n",
       "\n",
       "    .dataframe thead th {\n",
       "        text-align: right;\n",
       "    }\n",
       "</style>\n",
       "<table border=\"1\" class=\"dataframe\">\n",
       "  <thead>\n",
       "    <tr style=\"text-align: right;\">\n",
       "      <th></th>\n",
       "      <th>C</th>\n",
       "      <th>score</th>\n",
       "    </tr>\n",
       "  </thead>\n",
       "  <tbody>\n",
       "    <tr>\n",
       "      <th>1</th>\n",
       "      <td>0.01</td>\n",
       "      <td>0.825917</td>\n",
       "    </tr>\n",
       "    <tr>\n",
       "      <th>2</th>\n",
       "      <td>0.015</td>\n",
       "      <td>0.824267</td>\n",
       "    </tr>\n",
       "    <tr>\n",
       "      <th>0</th>\n",
       "      <td>0.005</td>\n",
       "      <td>0.816039</td>\n",
       "    </tr>\n",
       "  </tbody>\n",
       "</table>\n",
       "</div>"
      ],
      "text/plain": [
       "       C     score\n",
       "1   0.01  0.825917\n",
       "2  0.015  0.824267\n",
       "0  0.005  0.816039"
      ]
     },
     "execution_count": 7,
     "metadata": {},
     "output_type": "execute_result"
    }
   ],
   "source": [
    "skip=50\n",
    "param_grid = {'C': [0.005, 0.01, 0.015]}\n",
    "\n",
    "grid_search = GridSearchCV(lin_clf, param_grid, cv=5, iid=False, \n",
    "                           return_train_score=True)\n",
    "\n",
    "grid_search.fit(X_train_scaled[::skip], y_train[::skip])\n",
    "\n",
    "print('best parameters {0}'.format(grid_search.best_params_))\n",
    "\n",
    "cvres = pd.DataFrame(grid_search.cv_results_)\n",
    "cvres.rename({'param_C':'C', \n",
    "              'mean_test_score':'score'},\n",
    "             axis=1, inplace=True)\n",
    "cvres[['C', 'score']].sort_values(by='score', ascending=False)"
   ]
  },
  {
   "cell_type": "code",
   "execution_count": 8,
   "metadata": {},
   "outputs": [
    {
     "data": {
      "text/plain": [
       "array([0.8513289 , 0.86522463, 0.87      , 0.85475793, 0.88294314])"
      ]
     },
     "execution_count": 8,
     "metadata": {},
     "output_type": "execute_result"
    }
   ],
   "source": [
    "lin_clf = LinearSVC(penalty='l2', C=0.01, loss=\"hinge\", max_iter=100000, \n",
    "                    random_state=42)\n",
    "\n",
    "skip = 10   # subset for faster (though weaker) gridsearch\n",
    "cross_val_score(lin_clf, X_train_scaled[::skip], y_train[::skip], cv=5,\n",
    "                scoring=\"accuracy\")"
   ]
  },
  {
   "cell_type": "markdown",
   "metadata": {},
   "source": [
    "#### SVC - RBF kernel "
   ]
  },
  {
   "cell_type": "code",
   "execution_count": 14,
   "metadata": {},
   "outputs": [
    {
     "data": {
      "text/plain": [
       "array([0.86938776, 0.86831276, 0.87866109, 0.86075949, 0.8940678 ])"
      ]
     },
     "execution_count": 14,
     "metadata": {},
     "output_type": "execute_result"
    }
   ],
   "source": [
    "skip = 50   # subset for faster (though weaker) gridsearch\n",
    "\n",
    "svm_clf = SVC(C=1, kernel='rbf', decision_function_shape='ovr', gamma='scale')\n",
    "svm_clf.fit(X_train_scaled[::skip], y_train[::skip])\n",
    "\n",
    "cross_val_score(svm_clf, X_train_scaled[::skip], y_train[::skip], cv=5,\n",
    "                scoring=\"accuracy\")"
   ]
  },
  {
   "cell_type": "code",
   "execution_count": 15,
   "metadata": {},
   "outputs": [
    {
     "name": "stdout",
     "output_type": "stream",
     "text": [
      "best parameters {'C': 10}\n"
     ]
    },
    {
     "data": {
      "text/html": [
       "<div>\n",
       "<style scoped>\n",
       "    .dataframe tbody tr th:only-of-type {\n",
       "        vertical-align: middle;\n",
       "    }\n",
       "\n",
       "    .dataframe tbody tr th {\n",
       "        vertical-align: top;\n",
       "    }\n",
       "\n",
       "    .dataframe thead th {\n",
       "        text-align: right;\n",
       "    }\n",
       "</style>\n",
       "<table border=\"1\" class=\"dataframe\">\n",
       "  <thead>\n",
       "    <tr style=\"text-align: right;\">\n",
       "      <th></th>\n",
       "      <th>C</th>\n",
       "      <th>score</th>\n",
       "    </tr>\n",
       "  </thead>\n",
       "  <tbody>\n",
       "    <tr>\n",
       "      <th>3</th>\n",
       "      <td>10</td>\n",
       "      <td>0.885065</td>\n",
       "    </tr>\n",
       "    <tr>\n",
       "      <th>2</th>\n",
       "      <td>1</td>\n",
       "      <td>0.874238</td>\n",
       "    </tr>\n",
       "    <tr>\n",
       "      <th>0</th>\n",
       "      <td>0.001</td>\n",
       "      <td>0.130010</td>\n",
       "    </tr>\n",
       "    <tr>\n",
       "      <th>1</th>\n",
       "      <td>0.01</td>\n",
       "      <td>0.130010</td>\n",
       "    </tr>\n",
       "  </tbody>\n",
       "</table>\n",
       "</div>"
      ],
      "text/plain": [
       "       C     score\n",
       "3     10  0.885065\n",
       "2      1  0.874238\n",
       "0  0.001  0.130010\n",
       "1   0.01  0.130010"
      ]
     },
     "execution_count": 15,
     "metadata": {},
     "output_type": "execute_result"
    }
   ],
   "source": [
    "skip=50\n",
    "param_grid = {'C': [0.001, 0.01, 1, 10]}\n",
    "\n",
    "grid_search = GridSearchCV(svm_clf, param_grid, cv=5, iid=False, \n",
    "                           return_train_score=True)\n",
    "\n",
    "grid_search.fit(X_train_scaled[::skip], y_train[::skip])\n",
    "\n",
    "print('best parameters {0}'.format(grid_search.best_params_))\n",
    "\n",
    "cvres = pd.DataFrame(grid_search.cv_results_)\n",
    "cvres.rename({'param_C':'C', \n",
    "              'mean_test_score':'score'},\n",
    "             axis=1, inplace=True)\n",
    "cvres[['C', 'score']].sort_values(by='score', ascending=False)"
   ]
  },
  {
   "cell_type": "code",
   "execution_count": 17,
   "metadata": {},
   "outputs": [
    {
     "name": "stdout",
     "output_type": "stream",
     "text": [
      "best parameters {'C': 5}\n"
     ]
    },
    {
     "data": {
      "text/html": [
       "<div>\n",
       "<style scoped>\n",
       "    .dataframe tbody tr th:only-of-type {\n",
       "        vertical-align: middle;\n",
       "    }\n",
       "\n",
       "    .dataframe tbody tr th {\n",
       "        vertical-align: top;\n",
       "    }\n",
       "\n",
       "    .dataframe thead th {\n",
       "        text-align: right;\n",
       "    }\n",
       "</style>\n",
       "<table border=\"1\" class=\"dataframe\">\n",
       "  <thead>\n",
       "    <tr style=\"text-align: right;\">\n",
       "      <th></th>\n",
       "      <th>C</th>\n",
       "      <th>score</th>\n",
       "    </tr>\n",
       "  </thead>\n",
       "  <tbody>\n",
       "    <tr>\n",
       "      <th>0</th>\n",
       "      <td>5</td>\n",
       "      <td>0.886725</td>\n",
       "    </tr>\n",
       "    <tr>\n",
       "      <th>1</th>\n",
       "      <td>20</td>\n",
       "      <td>0.885065</td>\n",
       "    </tr>\n",
       "    <tr>\n",
       "      <th>2</th>\n",
       "      <td>100</td>\n",
       "      <td>0.885065</td>\n",
       "    </tr>\n",
       "  </tbody>\n",
       "</table>\n",
       "</div>"
      ],
      "text/plain": [
       "     C     score\n",
       "0    5  0.886725\n",
       "1   20  0.885065\n",
       "2  100  0.885065"
      ]
     },
     "execution_count": 17,
     "metadata": {},
     "output_type": "execute_result"
    }
   ],
   "source": [
    "skip=50\n",
    "param_grid = {'C': [5, 20, 100]}\n",
    "\n",
    "grid_search = GridSearchCV(svm_clf, param_grid, cv=5, iid=False, \n",
    "                           return_train_score=True)\n",
    "\n",
    "grid_search.fit(X_train_scaled[::skip], y_train[::skip])\n",
    "\n",
    "print('best parameters {0}'.format(grid_search.best_params_))\n",
    "\n",
    "cvres = pd.DataFrame(grid_search.cv_results_)\n",
    "cvres.rename({'param_C':'C', \n",
    "              'mean_test_score':'score'},\n",
    "             axis=1, inplace=True)\n",
    "cvres[['C', 'score']].sort_values(by='score', ascending=False)"
   ]
  },
  {
   "cell_type": "code",
   "execution_count": 21,
   "metadata": {},
   "outputs": [
    {
     "name": "stdout",
     "output_type": "stream",
     "text": [
      "Fitting 5 folds for each of 10 candidates, totalling 50 fits\n",
      "[CV] C=12.449176241426883, gamma=0.010767555829544997 ................\n"
     ]
    },
    {
     "name": "stderr",
     "output_type": "stream",
     "text": [
      "[Parallel(n_jobs=1)]: Using backend SequentialBackend with 1 concurrent workers.\n"
     ]
    },
    {
     "name": "stdout",
     "output_type": "stream",
     "text": [
      "[CV] . C=12.449176241426883, gamma=0.010767555829544997, total=   2.0s\n",
      "[CV] C=12.449176241426883, gamma=0.010767555829544997 ................\n"
     ]
    },
    {
     "name": "stderr",
     "output_type": "stream",
     "text": [
      "[Parallel(n_jobs=1)]: Done   1 out of   1 | elapsed:    2.9s remaining:    0.0s\n"
     ]
    },
    {
     "name": "stdout",
     "output_type": "stream",
     "text": [
      "[CV] . C=12.449176241426883, gamma=0.010767555829544997, total=   2.3s\n",
      "[CV] C=12.449176241426883, gamma=0.010767555829544997 ................\n",
      "[CV] . C=12.449176241426883, gamma=0.010767555829544997, total=   2.4s\n",
      "[CV] C=12.449176241426883, gamma=0.010767555829544997 ................\n",
      "[CV] . C=12.449176241426883, gamma=0.010767555829544997, total=   2.3s\n",
      "[CV] C=12.449176241426883, gamma=0.010767555829544997 ................\n",
      "[CV] . C=12.449176241426883, gamma=0.010767555829544997, total=   2.3s\n",
      "[CV] C=17.46521074182516, gamma=0.004501323556083868 .................\n",
      "[CV] .. C=17.46521074182516, gamma=0.004501323556083868, total=   2.1s\n",
      "[CV] C=17.46521074182516, gamma=0.004501323556083868 .................\n",
      "[CV] .. C=17.46521074182516, gamma=0.004501323556083868, total=   2.4s\n",
      "[CV] C=17.46521074182516, gamma=0.004501323556083868 .................\n",
      "[CV] .. C=17.46521074182516, gamma=0.004501323556083868, total=   2.1s\n",
      "[CV] C=17.46521074182516, gamma=0.004501323556083868 .................\n",
      "[CV] .. C=17.46521074182516, gamma=0.004501323556083868, total=   2.3s\n",
      "[CV] C=17.46521074182516, gamma=0.004501323556083868 .................\n",
      "[CV] .. C=17.46521074182516, gamma=0.004501323556083868, total=   2.3s\n",
      "[CV] C=9.176444745600158, gamma=0.09308785593369007 ..................\n",
      "[CV] ... C=9.176444745600158, gamma=0.09308785593369007, total=   2.6s\n",
      "[CV] C=9.176444745600158, gamma=0.09308785593369007 ..................\n",
      "[CV] ... C=9.176444745600158, gamma=0.09308785593369007, total=   2.4s\n",
      "[CV] C=9.176444745600158, gamma=0.09308785593369007 ..................\n",
      "[CV] ... C=9.176444745600158, gamma=0.09308785593369007, total=   2.5s\n",
      "[CV] C=9.176444745600158, gamma=0.09308785593369007 ..................\n",
      "[CV] ... C=9.176444745600158, gamma=0.09308785593369007, total=   2.4s\n",
      "[CV] C=9.176444745600158, gamma=0.09308785593369007 ..................\n",
      "[CV] ... C=9.176444745600158, gamma=0.09308785593369007, total=   2.6s\n",
      "[CV] C=24.88519613766751, gamma=0.08885692622046873 ..................\n",
      "[CV] ... C=24.88519613766751, gamma=0.08885692622046873, total=   2.4s\n",
      "[CV] C=24.88519613766751, gamma=0.08885692622046873 ..................\n",
      "[CV] ... C=24.88519613766751, gamma=0.08885692622046873, total=   2.5s\n",
      "[CV] C=24.88519613766751, gamma=0.08885692622046873 ..................\n",
      "[CV] ... C=24.88519613766751, gamma=0.08885692622046873, total=   2.6s\n",
      "[CV] C=24.88519613766751, gamma=0.08885692622046873 ..................\n",
      "[CV] ... C=24.88519613766751, gamma=0.08885692622046873, total=   2.5s\n",
      "[CV] C=24.88519613766751, gamma=0.08885692622046873 ..................\n",
      "[CV] ... C=24.88519613766751, gamma=0.08885692622046873, total=   2.6s\n",
      "[CV] C=5.510818037757732, gamma=0.019888922636819538 .................\n",
      "[CV] .. C=5.510818037757732, gamma=0.019888922636819538, total=   2.3s\n",
      "[CV] C=5.510818037757732, gamma=0.019888922636819538 .................\n",
      "[CV] .. C=5.510818037757732, gamma=0.019888922636819538, total=   2.4s\n",
      "[CV] C=5.510818037757732, gamma=0.019888922636819538 .................\n",
      "[CV] .. C=5.510818037757732, gamma=0.019888922636819538, total=   3.0s\n",
      "[CV] C=5.510818037757732, gamma=0.019888922636819538 .................\n",
      "[CV] .. C=5.510818037757732, gamma=0.019888922636819538, total=   2.6s\n",
      "[CV] C=5.510818037757732, gamma=0.019888922636819538 .................\n",
      "[CV] .. C=5.510818037757732, gamma=0.019888922636819538, total=   2.4s\n",
      "[CV] C=12.20740441012073, gamma=0.08524651957023761 ..................\n",
      "[CV] ... C=12.20740441012073, gamma=0.08524651957023761, total=   2.5s\n",
      "[CV] C=12.20740441012073, gamma=0.08524651957023761 ..................\n",
      "[CV] ... C=12.20740441012073, gamma=0.08524651957023761, total=   2.8s\n",
      "[CV] C=12.20740441012073, gamma=0.08524651957023761 ..................\n",
      "[CV] ... C=12.20740441012073, gamma=0.08524651957023761, total=   2.8s\n",
      "[CV] C=12.20740441012073, gamma=0.08524651957023761 ..................\n",
      "[CV] ... C=12.20740441012073, gamma=0.08524651957023761, total=   2.7s\n",
      "[CV] C=12.20740441012073, gamma=0.08524651957023761 ..................\n",
      "[CV] ... C=12.20740441012073, gamma=0.08524651957023761, total=   2.5s\n",
      "[CV] C=24.738486327933032, gamma=0.0013883773082811717 ...............\n",
      "[CV]  C=24.738486327933032, gamma=0.0013883773082811717, total=   1.6s\n",
      "[CV] C=24.738486327933032, gamma=0.0013883773082811717 ...............\n",
      "[CV]  C=24.738486327933032, gamma=0.0013883773082811717, total=   1.5s\n",
      "[CV] C=24.738486327933032, gamma=0.0013883773082811717 ...............\n",
      "[CV]  C=24.738486327933032, gamma=0.0013883773082811717, total=   1.6s\n",
      "[CV] C=24.738486327933032, gamma=0.0013883773082811717 ...............\n",
      "[CV]  C=24.738486327933032, gamma=0.0013883773082811717, total=   1.5s\n",
      "[CV] C=24.738486327933032, gamma=0.0013883773082811717 ...............\n",
      "[CV]  C=24.738486327933032, gamma=0.0013883773082811717, total=   1.6s\n",
      "[CV] C=18.671781288225453, gamma=0.017005479375378964 ................\n",
      "[CV] . C=18.671781288225453, gamma=0.017005479375378964, total=   2.4s\n",
      "[CV] C=18.671781288225453, gamma=0.017005479375378964 ................\n",
      "[CV] . C=18.671781288225453, gamma=0.017005479375378964, total=   2.3s\n",
      "[CV] C=18.671781288225453, gamma=0.017005479375378964 ................\n",
      "[CV] . C=18.671781288225453, gamma=0.017005479375378964, total=   2.5s\n",
      "[CV] C=18.671781288225453, gamma=0.017005479375378964 ................\n",
      "[CV] . C=18.671781288225453, gamma=0.017005479375378964, total=   2.4s\n",
      "[CV] C=18.671781288225453, gamma=0.017005479375378964 ................\n",
      "[CV] . C=18.671781288225453, gamma=0.017005479375378964, total=   2.5s\n",
      "[CV] C=18.26312792131724, gamma=0.0012220770191651875 ................\n",
      "[CV] . C=18.26312792131724, gamma=0.0012220770191651875, total=   1.5s\n",
      "[CV] C=18.26312792131724, gamma=0.0012220770191651875 ................\n",
      "[CV] . C=18.26312792131724, gamma=0.0012220770191651875, total=   1.4s\n",
      "[CV] C=18.26312792131724, gamma=0.0012220770191651875 ................\n",
      "[CV] . C=18.26312792131724, gamma=0.0012220770191651875, total=   1.4s\n",
      "[CV] C=18.26312792131724, gamma=0.0012220770191651875 ................\n",
      "[CV] . C=18.26312792131724, gamma=0.0012220770191651875, total=   1.4s\n",
      "[CV] C=18.26312792131724, gamma=0.0012220770191651875 ................\n",
      "[CV] . C=18.26312792131724, gamma=0.0012220770191651875, total=   1.4s\n",
      "[CV] C=9.236276912843929, gamma=0.024551471865054214 .................\n",
      "[CV] .. C=9.236276912843929, gamma=0.024551471865054214, total=   2.4s\n",
      "[CV] C=9.236276912843929, gamma=0.024551471865054214 .................\n",
      "[CV] .. C=9.236276912843929, gamma=0.024551471865054214, total=   2.4s\n",
      "[CV] C=9.236276912843929, gamma=0.024551471865054214 .................\n",
      "[CV] .. C=9.236276912843929, gamma=0.024551471865054214, total=   2.6s\n",
      "[CV] C=9.236276912843929, gamma=0.024551471865054214 .................\n",
      "[CV] .. C=9.236276912843929, gamma=0.024551471865054214, total=   2.5s\n",
      "[CV] C=9.236276912843929, gamma=0.024551471865054214 .................\n",
      "[CV] .. C=9.236276912843929, gamma=0.024551471865054214, total=   2.5s\n"
     ]
    },
    {
     "name": "stderr",
     "output_type": "stream",
     "text": [
      "[Parallel(n_jobs=1)]: Done  50 out of  50 | elapsed:  2.8min finished\n",
      "/home/paul/Software/anaconda2/envs/ds36_env/lib/python3.6/site-packages/sklearn/model_selection/_search.py:841: DeprecationWarning: The default of the `iid` parameter will change from True to False in version 0.22 and will be removed in 0.24. This will change numeric results when test-set sizes are unequal.\n",
      "  DeprecationWarning)\n"
     ]
    },
    {
     "name": "stdout",
     "output_type": "stream",
     "text": [
      "best parameters {'C': 24.738486327933032, 'gamma': 0.0013883773082811717}\n"
     ]
    },
    {
     "data": {
      "text/html": [
       "<div>\n",
       "<style scoped>\n",
       "    .dataframe tbody tr th:only-of-type {\n",
       "        vertical-align: middle;\n",
       "    }\n",
       "\n",
       "    .dataframe tbody tr th {\n",
       "        vertical-align: top;\n",
       "    }\n",
       "\n",
       "    .dataframe thead th {\n",
       "        text-align: right;\n",
       "    }\n",
       "</style>\n",
       "<table border=\"1\" class=\"dataframe\">\n",
       "  <thead>\n",
       "    <tr style=\"text-align: right;\">\n",
       "      <th></th>\n",
       "      <th>C</th>\n",
       "      <th>gamma</th>\n",
       "      <th>score</th>\n",
       "    </tr>\n",
       "  </thead>\n",
       "  <tbody>\n",
       "    <tr>\n",
       "      <th>6</th>\n",
       "      <td>24.7385</td>\n",
       "      <td>0.00138838</td>\n",
       "      <td>0.885000</td>\n",
       "    </tr>\n",
       "    <tr>\n",
       "      <th>8</th>\n",
       "      <td>18.2631</td>\n",
       "      <td>0.00122208</td>\n",
       "      <td>0.884167</td>\n",
       "    </tr>\n",
       "    <tr>\n",
       "      <th>1</th>\n",
       "      <td>17.4652</td>\n",
       "      <td>0.00450132</td>\n",
       "      <td>0.803333</td>\n",
       "    </tr>\n",
       "    <tr>\n",
       "      <th>...</th>\n",
       "      <td>...</td>\n",
       "      <td>...</td>\n",
       "      <td>...</td>\n",
       "    </tr>\n",
       "    <tr>\n",
       "      <th>2</th>\n",
       "      <td>9.17644</td>\n",
       "      <td>0.0930879</td>\n",
       "      <td>0.130000</td>\n",
       "    </tr>\n",
       "    <tr>\n",
       "      <th>3</th>\n",
       "      <td>24.8852</td>\n",
       "      <td>0.0888569</td>\n",
       "      <td>0.130000</td>\n",
       "    </tr>\n",
       "    <tr>\n",
       "      <th>5</th>\n",
       "      <td>12.2074</td>\n",
       "      <td>0.0852465</td>\n",
       "      <td>0.130000</td>\n",
       "    </tr>\n",
       "  </tbody>\n",
       "</table>\n",
       "<p>10 rows × 3 columns</p>\n",
       "</div>"
      ],
      "text/plain": [
       "          C       gamma     score\n",
       "6   24.7385  0.00138838  0.885000\n",
       "8   18.2631  0.00122208  0.884167\n",
       "1   17.4652  0.00450132  0.803333\n",
       "..      ...         ...       ...\n",
       "2   9.17644   0.0930879  0.130000\n",
       "3   24.8852   0.0888569  0.130000\n",
       "5   12.2074   0.0852465  0.130000\n",
       "\n",
       "[10 rows x 3 columns]"
      ]
     },
     "execution_count": 21,
     "metadata": {},
     "output_type": "execute_result"
    }
   ],
   "source": [
    "skip=50\n",
    "\n",
    "param_dists = {'gamma': reciprocal(0.001, 0.1), 'C': uniform(5, 20)}\n",
    "\n",
    "rnd_search = RandomizedSearchCV(svm_clf, param_dists, n_iter=10, verbose=2, \n",
    "                                cv=5, return_train_score=True)\n",
    "\n",
    "rnd_search.fit(X_train_scaled[::skip], y_train[::skip])\n",
    "\n",
    "\n",
    "print('best parameters {0}'.format(rnd_search.best_params_))\n",
    "\n",
    "cvres = pd.DataFrame(rnd_search.cv_results_)\n",
    "cvres.rename({'param_C':'C', \n",
    "              'param_gamma':'gamma',\n",
    "              'mean_test_score':'score'},\n",
    "             axis=1, inplace=True)\n",
    "cvres[['C', 'gamma', 'score']].sort_values(by='score', ascending=False)\n",
    "\n"
   ]
  },
  {
   "cell_type": "code",
   "execution_count": 24,
   "metadata": {},
   "outputs": [
    {
     "data": {
      "text/plain": [
       "SVC(C=24.738486327933032, cache_size=200, class_weight=None, coef0=0.0,\n",
       "  decision_function_shape='ovr', degree=3, gamma=0.0013883773082811717,\n",
       "  kernel='rbf', max_iter=-1, probability=False, random_state=None,\n",
       "  shrinking=True, tol=0.001, verbose=False)"
      ]
     },
     "execution_count": 24,
     "metadata": {},
     "output_type": "execute_result"
    }
   ],
   "source": [
    "skip=20\n",
    "rnd_search.best_estimator_.fit(X_train_scaled[::skip], y_train[::skip])"
   ]
  },
  {
   "cell_type": "code",
   "execution_count": 26,
   "metadata": {},
   "outputs": [
    {
     "data": {
      "text/plain": [
       "0.9277166666666666"
      ]
     },
     "execution_count": 26,
     "metadata": {},
     "output_type": "execute_result"
    }
   ],
   "source": [
    "y_pred = rnd_search.best_estimator_.predict(X_train_scaled)\n",
    "accuracy_score(y_train, y_pred)"
   ]
  },
  {
   "cell_type": "code",
   "execution_count": 27,
   "metadata": {},
   "outputs": [
    {
     "data": {
      "text/plain": [
       "0.9297"
      ]
     },
     "execution_count": 27,
     "metadata": {},
     "output_type": "execute_result"
    }
   ],
   "source": [
    "y_pred = rnd_search.best_estimator_.predict(X_test_scaled)\n",
    "accuracy_score(y_test, y_pred)"
   ]
  },
  {
   "cell_type": "code",
   "execution_count": null,
   "metadata": {},
   "outputs": [],
   "source": []
  }
 ],
 "metadata": {
  "kernelspec": {
   "display_name": "Python 3",
   "language": "python",
   "name": "python3"
  },
  "language_info": {
   "codemirror_mode": {
    "name": "ipython",
    "version": 3
   },
   "file_extension": ".py",
   "mimetype": "text/x-python",
   "name": "python",
   "nbconvert_exporter": "python",
   "pygments_lexer": "ipython3",
   "version": "3.6.3"
  },
  "varInspector": {
   "cols": {
    "lenName": 16,
    "lenType": 16,
    "lenVar": 40
   },
   "kernels_config": {
    "python": {
     "delete_cmd_postfix": "",
     "delete_cmd_prefix": "del ",
     "library": "var_list.py",
     "varRefreshCmd": "print(var_dic_list())"
    },
    "r": {
     "delete_cmd_postfix": ") ",
     "delete_cmd_prefix": "rm(",
     "library": "var_list.r",
     "varRefreshCmd": "cat(var_dic_list()) "
    }
   },
   "types_to_exclude": [
    "module",
    "function",
    "builtin_function_or_method",
    "instance",
    "_Feature"
   ],
   "window_display": false
  }
 },
 "nbformat": 4,
 "nbformat_minor": 2
}
