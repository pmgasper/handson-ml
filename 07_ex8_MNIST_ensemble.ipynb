{
 "cells": [
  {
   "cell_type": "markdown",
   "metadata": {},
   "source": [
    "# Chapter 7, exercise 8\n",
    "\n",
    "MNIST ensemble learning\n",
    "* train, validation, test split (40,000 10,000 10,000)\n",
    "* Train various classifiers\n",
    "  + Random Forest\n",
    "  + Extra Trees\n",
    "  + SVM\n",
    "* Combine into an ensemble\n",
    "  + hard and soft voting"
   ]
  },
  {
   "cell_type": "markdown",
   "metadata": {},
   "source": [
    "## Set up"
   ]
  },
  {
   "cell_type": "code",
   "execution_count": 2,
   "metadata": {},
   "outputs": [],
   "source": [
    "# To support both python 2 and python 3\n",
    "from __future__ import division, print_function, unicode_literals"
   ]
  },
  {
   "cell_type": "code",
   "execution_count": 33,
   "metadata": {},
   "outputs": [],
   "source": [
    "# Common imports\n",
    "import matplotlib.pyplot as plt\n",
    "import numpy as np\n",
    "import pandas as pd\n",
    "import seaborn as sns\n",
    "import scipy.stats as stats"
   ]
  },
  {
   "cell_type": "code",
   "execution_count": 4,
   "metadata": {},
   "outputs": [],
   "source": [
    "# Settings\n",
    "\n",
    "# Matplotlib\n",
    "%matplotlib inline\n",
    "plt.style.use('fivethirtyeight')\n",
    "plt.rcParams['figure.figsize'] = (6.0, 6.0)\n",
    "\n",
    "# Pandas\n",
    "pd.set_option('max_rows', 7)\n",
    "pd.set_option('max_columns', 50)\n",
    "\n",
    "# Numpy\n",
    "# np.random.seed(42)  # to make this notebook's output stable across runs"
   ]
  },
  {
   "cell_type": "markdown",
   "metadata": {},
   "source": [
    "## Data"
   ]
  },
  {
   "cell_type": "code",
   "execution_count": 10,
   "metadata": {},
   "outputs": [],
   "source": [
    "%%capture --no-stdout\n",
    "\n",
    "# Impore MNIST data\n",
    "from sklearn.datasets import fetch_mldata\n",
    "mnist = fetch_mldata('MNIST original', )\n",
    "X, y = mnist['data'].astype(float), mnist['target'].astype(float)\n",
    "\n",
    "# Train / Validation / Test split specified by text\n",
    "val_split = 50000\n",
    "test_split = 60000\n",
    "\n",
    "X_train, y_train = X[:val_split], y[:val_split]\n",
    "X_val, y_val = X[val_split:test_split], y[val_split:test_split]\n",
    "X_test, y_test = X[test_split:], y[test_split:]"
   ]
  },
  {
   "cell_type": "markdown",
   "metadata": {},
   "source": [
    "## Various classifiers"
   ]
  },
  {
   "cell_type": "markdown",
   "metadata": {},
   "source": [
    "### Random Forest"
   ]
  },
  {
   "cell_type": "code",
   "execution_count": 66,
   "metadata": {},
   "outputs": [
    {
     "data": {
      "text/plain": [
       "0.8295"
      ]
     },
     "execution_count": 66,
     "metadata": {},
     "output_type": "execute_result"
    }
   ],
   "source": [
    "# With initial parameters\n",
    "from sklearn.ensemble import RandomForestClassifier\n",
    "from sklearn.model_selection import cross_val_score\n",
    "\n",
    "rf_clf = RandomForestClassifier(n_estimators=100, max_leaf_nodes=16, \n",
    "                                oob_score=True, n_jobs=-1)\n",
    "rf_clf.fit(X_train, y_train)\n",
    "\n",
    "# Out-of-Bag score\n",
    "rf_clf.oob_score_"
   ]
  },
  {
   "cell_type": "code",
   "execution_count": 60,
   "metadata": {},
   "outputs": [
    {
     "data": {
      "text/plain": [
       "RandomizedSearchCV(cv=3, error_score='raise-deprecating',\n",
       "          estimator=RandomForestClassifier(bootstrap=True, class_weight=None, criterion='gini',\n",
       "            max_depth=None, max_features='auto', max_leaf_nodes=16,\n",
       "            min_impurity_decrease=0.0, min_impurity_split=None,\n",
       "            min_samples_leaf=1, min_samples_split=2,\n",
       "            min_weight_fraction_leaf=0.0, n_estimators=100, n_jobs=-1,\n",
       "            oob_score=True, random_state=None, verbose=0, warm_start=False),\n",
       "          fit_params=None, iid='warn', n_iter=20, n_jobs=None,\n",
       "          param_distributions={'n_estimators': <scipy.stats._distn_infrastructure.rv_frozen object at 0x7fa98f4710b8>, 'max_leaf_nodes': [4, 8, 16, 32], 'max_features': ['sqrt', 'log2'], 'min_samples_split': <scipy.stats._distn_infrastructure.rv_frozen object at 0x7fa98f4714e0>, 'bootstrap': [True, False], 'oob_score': [False], 'criterion': ['gini', 'entropy']},\n",
       "          pre_dispatch='2*n_jobs', random_state=None, refit=True,\n",
       "          return_train_score=True, scoring=None, verbose=0)"
      ]
     },
     "execution_count": 60,
     "metadata": {},
     "output_type": "execute_result"
    }
   ],
   "source": [
    "# Randomized hyperparameter search\n",
    "from sklearn.model_selection import RandomizedSearchCV\n",
    "\n",
    "param_dists = {'n_estimators': stats.randint(10, 100),\n",
    "               'max_leaf_nodes': [4, 8, 16, 32],\n",
    "               'max_features': ['sqrt', 'log2'],\n",
    "               'min_samples_split': stats.randint(2, 10),\n",
    "               'bootstrap': [True, False],\n",
    "               'oob_score': [False],\n",
    "               'criterion': ['gini', 'entropy']}\n",
    "\n",
    "rnd_search = RandomizedSearchCV(rf_clf, param_dists, n_iter=20, cv=3,\n",
    "                                return_train_score=True)\n",
    "\n",
    "rnd_search.fit(X_train, y_train)"
   ]
  },
  {
   "cell_type": "code",
   "execution_count": 64,
   "metadata": {},
   "outputs": [
    {
     "name": "stdout",
     "output_type": "stream",
     "text": [
      "best parameters {'bootstrap': True, 'criterion': 'entropy', 'max_features': 'sqrt', 'max_leaf_nodes': 32, 'min_samples_split': 3, 'n_estimators': 74, 'oob_score': False}\n"
     ]
    },
    {
     "data": {
      "text/html": [
       "<div>\n",
       "<style scoped>\n",
       "    .dataframe tbody tr th:only-of-type {\n",
       "        vertical-align: middle;\n",
       "    }\n",
       "\n",
       "    .dataframe tbody tr th {\n",
       "        vertical-align: top;\n",
       "    }\n",
       "\n",
       "    .dataframe thead th {\n",
       "        text-align: right;\n",
       "    }\n",
       "</style>\n",
       "<table border=\"1\" class=\"dataframe\">\n",
       "  <thead>\n",
       "    <tr style=\"text-align: right;\">\n",
       "      <th></th>\n",
       "      <th>n_estimators</th>\n",
       "      <th>max_leaf_nodes</th>\n",
       "      <th>max_features</th>\n",
       "      <th>min_samples_split</th>\n",
       "      <th>bootstrap</th>\n",
       "      <th>criterion</th>\n",
       "      <th>score</th>\n",
       "    </tr>\n",
       "  </thead>\n",
       "  <tbody>\n",
       "    <tr>\n",
       "      <th>11</th>\n",
       "      <td>74</td>\n",
       "      <td>32</td>\n",
       "      <td>sqrt</td>\n",
       "      <td>3</td>\n",
       "      <td>True</td>\n",
       "      <td>entropy</td>\n",
       "      <td>0.87928</td>\n",
       "    </tr>\n",
       "    <tr>\n",
       "      <th>2</th>\n",
       "      <td>49</td>\n",
       "      <td>32</td>\n",
       "      <td>sqrt</td>\n",
       "      <td>8</td>\n",
       "      <td>False</td>\n",
       "      <td>entropy</td>\n",
       "      <td>0.87860</td>\n",
       "    </tr>\n",
       "    <tr>\n",
       "      <th>8</th>\n",
       "      <td>40</td>\n",
       "      <td>32</td>\n",
       "      <td>sqrt</td>\n",
       "      <td>7</td>\n",
       "      <td>True</td>\n",
       "      <td>gini</td>\n",
       "      <td>0.87758</td>\n",
       "    </tr>\n",
       "    <tr>\n",
       "      <th>5</th>\n",
       "      <td>52</td>\n",
       "      <td>32</td>\n",
       "      <td>sqrt</td>\n",
       "      <td>2</td>\n",
       "      <td>False</td>\n",
       "      <td>entropy</td>\n",
       "      <td>0.87474</td>\n",
       "    </tr>\n",
       "    <tr>\n",
       "      <th>18</th>\n",
       "      <td>45</td>\n",
       "      <td>32</td>\n",
       "      <td>sqrt</td>\n",
       "      <td>7</td>\n",
       "      <td>True</td>\n",
       "      <td>entropy</td>\n",
       "      <td>0.87366</td>\n",
       "    </tr>\n",
       "  </tbody>\n",
       "</table>\n",
       "</div>"
      ],
      "text/plain": [
       "   n_estimators max_leaf_nodes max_features min_samples_split bootstrap  \\\n",
       "11           74             32         sqrt                 3      True   \n",
       "2            49             32         sqrt                 8     False   \n",
       "8            40             32         sqrt                 7      True   \n",
       "5            52             32         sqrt                 2     False   \n",
       "18           45             32         sqrt                 7      True   \n",
       "\n",
       "   criterion    score  \n",
       "11   entropy  0.87928  \n",
       "2    entropy  0.87860  \n",
       "8       gini  0.87758  \n",
       "5    entropy  0.87474  \n",
       "18   entropy  0.87366  "
      ]
     },
     "execution_count": 64,
     "metadata": {},
     "output_type": "execute_result"
    }
   ],
   "source": [
    "# Hyperparameter search results\n",
    "print('best parameters {0}'.format(rnd_search.best_params_))\n",
    "\n",
    "cvres = pd.DataFrame(rnd_search.cv_results_)\n",
    "param_names = param_dist.keys()\n",
    "cvres.rename({'param_' + key : key for key in param_names}, axis=1, inplace=True)\n",
    "cvres.rename({'mean_test_score':'score'}, axis=1, inplace=True)\n",
    "cvres[param_list + ['score']].sort_values(by='score', ascending=False).head(5)"
   ]
  },
  {
   "cell_type": "code",
   "execution_count": 70,
   "metadata": {},
   "outputs": [
    {
     "data": {
      "text/plain": [
       "0.8607"
      ]
     },
     "execution_count": 70,
     "metadata": {},
     "output_type": "execute_result"
    }
   ],
   "source": [
    "# Using Hyperparameters from random search\n",
    "#   with some slection for speed amoung similarly high scores\n",
    "\n",
    "rf_clf = RandomForestClassifier(n_estimators=50, max_leaf_nodes=32, \n",
    "                                criterion='entropy',\n",
    "                                oob_score=True, n_jobs=-1)\n",
    "rf_clf.fit(X_train, y_train)\n",
    "\n",
    "# Out-of-Bag score\n",
    "rf_clf.oob_score_"
   ]
  },
  {
   "cell_type": "markdown",
   "metadata": {},
   "source": [
    "### Extra trees"
   ]
  },
  {
   "cell_type": "code",
   "execution_count": null,
   "metadata": {},
   "outputs": [],
   "source": []
  }
 ],
 "metadata": {
  "kernelspec": {
   "display_name": "Python 3",
   "language": "python",
   "name": "python3"
  },
  "language_info": {
   "codemirror_mode": {
    "name": "ipython",
    "version": 3
   },
   "file_extension": ".py",
   "mimetype": "text/x-python",
   "name": "python",
   "nbconvert_exporter": "python",
   "pygments_lexer": "ipython3",
   "version": "3.6.3"
  },
  "varInspector": {
   "cols": {
    "lenName": 16,
    "lenType": 16,
    "lenVar": 40
   },
   "kernels_config": {
    "python": {
     "delete_cmd_postfix": "",
     "delete_cmd_prefix": "del ",
     "library": "var_list.py",
     "varRefreshCmd": "print(var_dic_list())"
    },
    "r": {
     "delete_cmd_postfix": ") ",
     "delete_cmd_prefix": "rm(",
     "library": "var_list.r",
     "varRefreshCmd": "cat(var_dic_list()) "
    }
   },
   "types_to_exclude": [
    "module",
    "function",
    "builtin_function_or_method",
    "instance",
    "_Feature"
   ],
   "window_display": false
  }
 },
 "nbformat": 4,
 "nbformat_minor": 2
}
