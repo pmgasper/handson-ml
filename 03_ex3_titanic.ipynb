{
 "cells": [
  {
   "cell_type": "markdown",
   "metadata": {},
   "source": [
    "## Chapter 3 - Exercise 3\n",
    "\n",
    "Tackle the Kaggle Titanic dataset\n",
    "* predict which passengers survived\n",
    "\n",
    "Notes on the data:\n",
    "      * survival    Survival \t    0 = No,  1 = Yes\n",
    "      * pclass      Ticket class \t1 = 1st, 2 = 2nd, 3 = 3rd\n",
    "      * sex         Sex \t\n",
    "      * age \t    Age in years\n",
    "                      Fractional if less than 1.\n",
    "                      If estimated, in form of xx.5\n",
    "      * sibsp       Number of siblings + spouses aboard the Titanic \t\n",
    "      * parch       Number of parents + children aboard the Titanic \t\n",
    "      * ticket      Ticket number \t\n",
    "      * fare        Passenger fare \t\n",
    "      * cabin       Cabin number \t\n",
    "      * embarked    Port of Embarkation \t\n",
    "                      C = Cherbourg, Q = Queenstown, S = Southampton\n"
   ]
  },
  {
   "cell_type": "markdown",
   "metadata": {},
   "source": [
    "To do:\n",
    "\n",
    "    data exploration\n",
    "    \n",
    "       correlations\n",
    "\n",
    "    include cleaning in pipeline\n",
    "\n",
    "    separate numeric and categorical\n",
    "\n",
    "    impute missing ages\n",
    "      include was_imputed?\n",
    "      \n",
    "    impute other numerics in case they are missing in test or deployed data\n",
    "    \n",
    "    add age ** 2 feature\n",
    "    \n",
    "    use ages to estimate split of sibsp in sib sp and parch in par ch\n",
    "    \n",
    "    one-hot encode categorical\n",
    "    \n",
    "    join numeric and categorical\n",
    "    \n",
    "    try different models\n",
    "      cross-validation\n",
    "    \n",
    "    try different hyper parameters\n",
    "      cross-validation\n",
    "    \n",
    "    more feature engineering\n",
    "    \n",
    "    compare to text notebook\n",
    "    \n",
    "    submit to kaggle\n"
   ]
  },
  {
   "cell_type": "markdown",
   "metadata": {},
   "source": [
    "Brainstorm:\n",
    "\n",
    "    pclass as categorical or numeric?\n",
    "   \n",
    "    sibsp separate into sib and sp, estimating based on age?\n",
    "      assume > 18 and sibsp = 1 --> sp = 1 sib = 0; else sib = sibsp?\n",
    "    \n",
    "    parch separate into par and ch, estimating based on age?\n",
    "      assume age > 18 ch = parch; else par = parch?\n",
    "        seems more dubious (ie. age 20, could easily be ch or par?)\n",
    "        \n",
    "    few examples of high fares may through off regression?"
   ]
  },
  {
   "cell_type": "markdown",
   "metadata": {},
   "source": [
    "### Set up notebook environment"
   ]
  },
  {
   "cell_type": "code",
   "execution_count": 1,
   "metadata": {},
   "outputs": [],
   "source": [
    "# Imports\n",
    "import matplotlib.pyplot as plt\n",
    "import numpy as np\n",
    "import pandas as pd\n",
    "import seaborn as sns\n",
    "from sklearn.base import BaseEstimator, TransformerMixin\n",
    "from sklearn.compose import ColumnTransformer\n",
    "from sklearn.impute import SimpleImputer\n",
    "from sklearn.linear_model import LogisticRegression\n",
    "from sklearn.pipeline import Pipeline\n",
    "from sklearn.preprocessing import OneHotEncoder, OrdinalEncoder, StandardScaler"
   ]
  },
  {
   "cell_type": "code",
   "execution_count": 2,
   "metadata": {},
   "outputs": [],
   "source": [
    "# Settings\n",
    "pd.set_option('max_rows', 7)\n",
    "pd.set_option('max_columns', 50)\n",
    "%matplotlib inline\n",
    "plt.style.use('fivethirtyeight')"
   ]
  },
  {
   "cell_type": "markdown",
   "metadata": {},
   "source": [
    "### Load and clean the data"
   ]
  },
  {
   "cell_type": "code",
   "execution_count": 3,
   "metadata": {},
   "outputs": [],
   "source": [
    "# Load data \n",
    "data = pd.read_csv('datasets/titanic/train.csv')\n",
    "\n",
    "# Column names as lower case strings\n",
    "data.columns = map(str.lower, data.columns)"
   ]
  },
  {
   "cell_type": "markdown",
   "metadata": {},
   "source": [
    "### Data Exploration"
   ]
  },
  {
   "cell_type": "code",
   "execution_count": 4,
   "metadata": {},
   "outputs": [
    {
     "name": "stdout",
     "output_type": "stream",
     "text": [
      "Total passengers in data: 891\n"
     ]
    }
   ],
   "source": [
    "print('Total passengers in data: {0}'.format(len(data)))"
   ]
  },
  {
   "cell_type": "code",
   "execution_count": 5,
   "metadata": {},
   "outputs": [
    {
     "data": {
      "text/html": [
       "<div>\n",
       "<style scoped>\n",
       "    .dataframe tbody tr th:only-of-type {\n",
       "        vertical-align: middle;\n",
       "    }\n",
       "\n",
       "    .dataframe tbody tr th {\n",
       "        vertical-align: top;\n",
       "    }\n",
       "\n",
       "    .dataframe thead th {\n",
       "        text-align: right;\n",
       "    }\n",
       "</style>\n",
       "<table border=\"1\" class=\"dataframe\">\n",
       "  <thead>\n",
       "    <tr style=\"text-align: right;\">\n",
       "      <th></th>\n",
       "      <th>count</th>\n",
       "      <th>mean</th>\n",
       "      <th>std</th>\n",
       "      <th>min</th>\n",
       "      <th>25%</th>\n",
       "      <th>50%</th>\n",
       "      <th>75%</th>\n",
       "      <th>max</th>\n",
       "    </tr>\n",
       "  </thead>\n",
       "  <tbody>\n",
       "    <tr>\n",
       "      <th>passengerid</th>\n",
       "      <td>891.0</td>\n",
       "      <td>446.000000</td>\n",
       "      <td>257.353842</td>\n",
       "      <td>1.00</td>\n",
       "      <td>223.5000</td>\n",
       "      <td>446.0000</td>\n",
       "      <td>668.5</td>\n",
       "      <td>891.0000</td>\n",
       "    </tr>\n",
       "    <tr>\n",
       "      <th>survived</th>\n",
       "      <td>891.0</td>\n",
       "      <td>0.383838</td>\n",
       "      <td>0.486592</td>\n",
       "      <td>0.00</td>\n",
       "      <td>0.0000</td>\n",
       "      <td>0.0000</td>\n",
       "      <td>1.0</td>\n",
       "      <td>1.0000</td>\n",
       "    </tr>\n",
       "    <tr>\n",
       "      <th>pclass</th>\n",
       "      <td>891.0</td>\n",
       "      <td>2.308642</td>\n",
       "      <td>0.836071</td>\n",
       "      <td>1.00</td>\n",
       "      <td>2.0000</td>\n",
       "      <td>3.0000</td>\n",
       "      <td>3.0</td>\n",
       "      <td>3.0000</td>\n",
       "    </tr>\n",
       "    <tr>\n",
       "      <th>age</th>\n",
       "      <td>714.0</td>\n",
       "      <td>29.699118</td>\n",
       "      <td>14.526497</td>\n",
       "      <td>0.42</td>\n",
       "      <td>20.1250</td>\n",
       "      <td>28.0000</td>\n",
       "      <td>38.0</td>\n",
       "      <td>80.0000</td>\n",
       "    </tr>\n",
       "    <tr>\n",
       "      <th>sibsp</th>\n",
       "      <td>891.0</td>\n",
       "      <td>0.523008</td>\n",
       "      <td>1.102743</td>\n",
       "      <td>0.00</td>\n",
       "      <td>0.0000</td>\n",
       "      <td>0.0000</td>\n",
       "      <td>1.0</td>\n",
       "      <td>8.0000</td>\n",
       "    </tr>\n",
       "    <tr>\n",
       "      <th>parch</th>\n",
       "      <td>891.0</td>\n",
       "      <td>0.381594</td>\n",
       "      <td>0.806057</td>\n",
       "      <td>0.00</td>\n",
       "      <td>0.0000</td>\n",
       "      <td>0.0000</td>\n",
       "      <td>0.0</td>\n",
       "      <td>6.0000</td>\n",
       "    </tr>\n",
       "    <tr>\n",
       "      <th>fare</th>\n",
       "      <td>891.0</td>\n",
       "      <td>32.204208</td>\n",
       "      <td>49.693429</td>\n",
       "      <td>0.00</td>\n",
       "      <td>7.9104</td>\n",
       "      <td>14.4542</td>\n",
       "      <td>31.0</td>\n",
       "      <td>512.3292</td>\n",
       "    </tr>\n",
       "  </tbody>\n",
       "</table>\n",
       "</div>"
      ],
      "text/plain": [
       "             count        mean         std   min       25%       50%    75%  \\\n",
       "passengerid  891.0  446.000000  257.353842  1.00  223.5000  446.0000  668.5   \n",
       "survived     891.0    0.383838    0.486592  0.00    0.0000    0.0000    1.0   \n",
       "pclass       891.0    2.308642    0.836071  1.00    2.0000    3.0000    3.0   \n",
       "age          714.0   29.699118   14.526497  0.42   20.1250   28.0000   38.0   \n",
       "sibsp        891.0    0.523008    1.102743  0.00    0.0000    0.0000    1.0   \n",
       "parch        891.0    0.381594    0.806057  0.00    0.0000    0.0000    0.0   \n",
       "fare         891.0   32.204208   49.693429  0.00    7.9104   14.4542   31.0   \n",
       "\n",
       "                  max  \n",
       "passengerid  891.0000  \n",
       "survived       1.0000  \n",
       "pclass         3.0000  \n",
       "age           80.0000  \n",
       "sibsp          8.0000  \n",
       "parch          6.0000  \n",
       "fare         512.3292  "
      ]
     },
     "execution_count": 5,
     "metadata": {},
     "output_type": "execute_result"
    }
   ],
   "source": [
    "# Numeric data\n",
    "data.describe().T"
   ]
  },
  {
   "cell_type": "markdown",
   "metadata": {},
   "source": [
    "Raw numeric data notes:\n",
    " * 177 of 891 missing age data\n",
    " * passengerid should likely be excluded\n",
    " * pclass should likely be treated as categorical\n",
    " * sibsp and parch may benefit from an attempt to separate\n",
    "   + could make assumptions based on age and number\n",
    "   + why are these together anyway?\n",
    " "
   ]
  },
  {
   "cell_type": "code",
   "execution_count": 6,
   "metadata": {},
   "outputs": [
    {
     "data": {
      "text/html": [
       "<div>\n",
       "<style scoped>\n",
       "    .dataframe tbody tr th:only-of-type {\n",
       "        vertical-align: middle;\n",
       "    }\n",
       "\n",
       "    .dataframe tbody tr th {\n",
       "        vertical-align: top;\n",
       "    }\n",
       "\n",
       "    .dataframe thead th {\n",
       "        text-align: right;\n",
       "    }\n",
       "</style>\n",
       "<table border=\"1\" class=\"dataframe\">\n",
       "  <thead>\n",
       "    <tr style=\"text-align: right;\">\n",
       "      <th></th>\n",
       "      <th>count</th>\n",
       "      <th>unique</th>\n",
       "      <th>top</th>\n",
       "      <th>freq</th>\n",
       "    </tr>\n",
       "  </thead>\n",
       "  <tbody>\n",
       "    <tr>\n",
       "      <th>name</th>\n",
       "      <td>891</td>\n",
       "      <td>891</td>\n",
       "      <td>Blackwell, Mr. Stephen Weart</td>\n",
       "      <td>1</td>\n",
       "    </tr>\n",
       "    <tr>\n",
       "      <th>sex</th>\n",
       "      <td>891</td>\n",
       "      <td>2</td>\n",
       "      <td>male</td>\n",
       "      <td>577</td>\n",
       "    </tr>\n",
       "    <tr>\n",
       "      <th>ticket</th>\n",
       "      <td>891</td>\n",
       "      <td>681</td>\n",
       "      <td>1601</td>\n",
       "      <td>7</td>\n",
       "    </tr>\n",
       "    <tr>\n",
       "      <th>cabin</th>\n",
       "      <td>204</td>\n",
       "      <td>147</td>\n",
       "      <td>B96 B98</td>\n",
       "      <td>4</td>\n",
       "    </tr>\n",
       "    <tr>\n",
       "      <th>embarked</th>\n",
       "      <td>889</td>\n",
       "      <td>3</td>\n",
       "      <td>S</td>\n",
       "      <td>644</td>\n",
       "    </tr>\n",
       "  </tbody>\n",
       "</table>\n",
       "</div>"
      ],
      "text/plain": [
       "         count unique                           top freq\n",
       "name       891    891  Blackwell, Mr. Stephen Weart    1\n",
       "sex        891      2                          male  577\n",
       "ticket     891    681                          1601    7\n",
       "cabin      204    147                       B96 B98    4\n",
       "embarked   889      3                             S  644"
      ]
     },
     "execution_count": 6,
     "metadata": {},
     "output_type": "execute_result"
    }
   ],
   "source": [
    "# Categorical data\n",
    "data.select_dtypes(include=['object']).describe().T"
   ]
  },
  {
   "cell_type": "markdown",
   "metadata": {},
   "source": [
    "Raw categorical data notes:\n",
    "* Most entries missing cabin (687 out of 891)\n",
    "  + Might use cabin vs no cabin\n",
    "  + Cabin letter and number may also be informative\n",
    "* 2 missing embarked\n",
    "  + not enough to make NA class, probably just use mode"
   ]
  },
  {
   "cell_type": "code",
   "execution_count": 7,
   "metadata": {},
   "outputs": [
    {
     "data": {
      "text/html": [
       "<div>\n",
       "<style scoped>\n",
       "    .dataframe tbody tr th:only-of-type {\n",
       "        vertical-align: middle;\n",
       "    }\n",
       "\n",
       "    .dataframe tbody tr th {\n",
       "        vertical-align: top;\n",
       "    }\n",
       "\n",
       "    .dataframe thead th {\n",
       "        text-align: right;\n",
       "    }\n",
       "</style>\n",
       "<table border=\"1\" class=\"dataframe\">\n",
       "  <thead>\n",
       "    <tr style=\"text-align: right;\">\n",
       "      <th></th>\n",
       "      <th>survived</th>\n",
       "      <th>count</th>\n",
       "    </tr>\n",
       "  </thead>\n",
       "  <tbody>\n",
       "    <tr>\n",
       "      <th>0</th>\n",
       "      <td>No</td>\n",
       "      <td>549</td>\n",
       "    </tr>\n",
       "    <tr>\n",
       "      <th>1</th>\n",
       "      <td>Yes</td>\n",
       "      <td>342</td>\n",
       "    </tr>\n",
       "  </tbody>\n",
       "</table>\n",
       "</div>"
      ],
      "text/plain": [
       "  survived  count\n",
       "0       No    549\n",
       "1      Yes    342"
      ]
     },
     "metadata": {},
     "output_type": "display_data"
    },
    {
     "data": {
      "image/png": "[encoded data removed]",
      "text/plain": [
       "<Figure size 216x216 with 1 Axes>"
      ]
     },
     "metadata": {},
     "output_type": "display_data"
    }
   ],
   "source": [
    "# Survival counts\n",
    "plt.figure(figsize=(3,3))\n",
    "survived_count = (data.survived.value_counts()\n",
    "                      .to_frame(name='count')\n",
    "                      .rename({0:'No', 1:'Yes'})\n",
    "                      .reset_index()\n",
    "                      .rename({'index':'survived'}, axis=1)\n",
    "                 )\n",
    "display(survived_count)\n",
    "\n",
    "sns.barplot(x='survived', y='count', data=survived_count)\n",
    "plt.title('Survival counts')\n",
    "plt.show()"
   ]
  },
  {
   "cell_type": "code",
   "execution_count": 8,
   "metadata": {},
   "outputs": [
    {
     "data": {
      "text/plain": [
       "male      577\n",
       "female    314\n",
       "Name: sex, dtype: int64"
      ]
     },
     "metadata": {},
     "output_type": "display_data"
    },
    {
     "data": {
      "image/png": "[encoded data removed]",
      "text/plain": [
       "<Figure size 216x216 with 1 Axes>"
      ]
     },
     "metadata": {},
     "output_type": "display_data"
    }
   ],
   "source": [
    "# Gender count\n",
    "display(data.sex.value_counts())\n",
    "plt.figure(figsize=(3,3))\n",
    "sns.countplot(data=data, x=data.sex)\n",
    "plt.show()"
   ]
  },
  {
   "cell_type": "code",
   "execution_count": 9,
   "metadata": {},
   "outputs": [
    {
     "data": {
      "text/plain": [
       "1    216\n",
       "2    184\n",
       "3    491\n",
       "Name: pclass, dtype: int64"
      ]
     },
     "metadata": {},
     "output_type": "display_data"
    },
    {
     "data": {
      "image/png": "[encoded data removed]",
      "text/plain": [
       "<Figure size 324x216 with 1 Axes>"
      ]
     },
     "metadata": {},
     "output_type": "display_data"
    }
   ],
   "source": [
    "# Passanger class counts\n",
    "plt.figure(figsize=(4.5, 3))\n",
    "display(data.pclass.value_counts().sort_index())\n",
    "sns.countplot(data=data, x='pclass')\n",
    "plt.title('Passenger class counts')\n",
    "plt.show()"
   ]
  },
  {
   "cell_type": "markdown",
   "metadata": {},
   "source": [
    "Notes:\n",
    "* survival, sex, pclass look balanced enough to not require stratification"
   ]
  },
  {
   "cell_type": "code",
   "execution_count": 10,
   "metadata": {},
   "outputs": [
    {
     "name": "stdout",
     "output_type": "stream",
     "text": [
      "Count of missing age data = 177\n"
     ]
    },
    {
     "data": {
      "image/png": "[encoded data removed]",
      "text/plain": [
       "<Figure size 720x216 with 1 Axes>"
      ]
     },
     "metadata": {},
     "output_type": "display_data"
    }
   ],
   "source": [
    "# Age data missing\n",
    "print('Count of missing age data = {}'.format(data.age.isnull().sum()))\n",
    "\n",
    "# Age count histogram\n",
    "plt.figure(figsize=(10, 3))\n",
    "sns.distplot(data.loc[data.age.notnull()].age, hist=True, kde=False, \n",
    "             bins=np.arange(0, 81, 5),\n",
    "             hist_kws={'edgecolor':'white', 'linewidth':2})\n",
    "plt.title('Age count histogram')\n",
    "plt.show()"
   ]
  },
  {
   "cell_type": "markdown",
   "metadata": {},
   "source": [
    "Age notes:\n",
    "* Might add age ** 2 feature for the possibility that children and elderly were treated similarly"
   ]
  },
  {
   "cell_type": "code",
   "execution_count": 11,
   "metadata": {},
   "outputs": [
    {
     "data": {
      "text/plain": [
       "0    608\n",
       "1    209\n",
       "2     28\n",
       "3     16\n",
       "4     18\n",
       "5      5\n",
       "8      7\n",
       "Name: sibsp, dtype: int64"
      ]
     },
     "metadata": {},
     "output_type": "display_data"
    },
    {
     "data": {
      "image/png": "[encoded data removed]",
      "text/plain": [
       "<Figure size 432x288 with 1 Axes>"
      ]
     },
     "metadata": {},
     "output_type": "display_data"
    }
   ],
   "source": [
    "# Sibsp value counts\n",
    "display(data.sibsp.value_counts().sort_index())\n",
    "sns.countplot(data.sibsp)\n",
    "plt.show()"
   ]
  },
  {
   "cell_type": "code",
   "execution_count": 12,
   "metadata": {
    "scrolled": true
   },
   "outputs": [
    {
     "data": {
      "text/plain": [
       "0    678\n",
       "1    118\n",
       "2     80\n",
       "3      5\n",
       "4      4\n",
       "5      5\n",
       "6      1\n",
       "Name: parch, dtype: int64"
      ]
     },
     "metadata": {},
     "output_type": "display_data"
    },
    {
     "data": {
      "image/png": "[encoded data removed]",
      "text/plain": [
       "<Figure size 432x288 with 1 Axes>"
      ]
     },
     "metadata": {},
     "output_type": "display_data"
    }
   ],
   "source": [
    "# Parch value counts\n",
    "display(data.parch.value_counts().sort_index())\n",
    "sns.countplot(data.parch)\n",
    "plt.show()"
   ]
  },
  {
   "cell_type": "code",
   "execution_count": 13,
   "metadata": {},
   "outputs": [
    {
     "name": "stdout",
     "output_type": "stream",
     "text": [
      "Number of fares greater than 200 = 20\n"
     ]
    },
    {
     "data": {
      "image/png": "[encoded data removed]",
      "text/plain": [
       "<Figure size 720x288 with 1 Axes>"
      ]
     },
     "metadata": {},
     "output_type": "display_data"
    }
   ],
   "source": [
    "# Fare histogram\n",
    "print('Number of fares greater than 200 = {0}'.format(\n",
    "                                               len(data.loc[data.fare > 200])))\n",
    "\n",
    "plt.figure(figsize=(10, 4))\n",
    "sns.distplot(data.fare, hist=True, kde=False, \n",
    "             bins=np.arange(0, 200, 25),\n",
    "             hist_kws={'edgecolor':'white', 'linewidth':2})\n",
    "plt.title('Fare count histogram')\n",
    "plt.show()"
   ]
  },
  {
   "cell_type": "code",
   "execution_count": 14,
   "metadata": {
    "scrolled": true
   },
   "outputs": [],
   "source": [
    "# Potential feature engineering\n",
    "\n",
    "# age squared\n",
    "data['age_sq'] = data['age'] ** 2\n",
    "\n",
    "# age estimated\n",
    "data['age_adj'] = data.apply(lambda row: np.floor(row.age) if row.age % 1 == 0.5 \n",
    "                             else row.age, axis=1)\n",
    "\n",
    "data['age_was_estimated'] = data.age % 1 == 0.5\n",
    "\n",
    "# sibsp and parch splits\n",
    "#   make some assumptions\n",
    "data['sib'] = data.apply(lambda row: row.sibsp if row.sibsp > 1 or row.age < 18 \n",
    "                   else 0, axis=1)\n",
    "data['sp'] = data.apply(lambda row: row.sibsp if row.sibsp == 1 and row.age >= 18 \n",
    "                   else 0, axis=1)\n",
    "\n",
    "data['par'] = data.apply(lambda row: row.parch if row.parch <= 2 and row.age < 18 \n",
    "                   else 0, axis=1)\n",
    "data['ch'] = data.apply(lambda row: row.parch if row.parch > 2 or row.age >= 18 \n",
    "                   else 0, axis=1)"
   ]
  },
  {
   "cell_type": "code",
   "execution_count": 15,
   "metadata": {},
   "outputs": [
    {
     "data": {
      "text/plain": [
       "survived             1.000000\n",
       "fare                 0.257307\n",
       "par                  0.096788\n",
       "sp                   0.088965\n",
       "parch                0.081629\n",
       "ch                   0.054630\n",
       "passengerid         -0.005007\n",
       "sibsp               -0.035322\n",
       "age_sq              -0.055645\n",
       "age_adj             -0.076626\n",
       "sib                 -0.076993\n",
       "age                 -0.077221\n",
       "age_was_estimated   -0.096929\n",
       "pclass              -0.338481\n",
       "Name: survived, dtype: float64"
      ]
     },
     "metadata": {},
     "output_type": "display_data"
    }
   ],
   "source": [
    "# Correlations\n",
    "with pd.option_context('max_row', None):\n",
    "    display(data.corr()['survived'].sort_values(ascending=False))"
   ]
  },
  {
   "cell_type": "markdown",
   "metadata": {},
   "source": [
    "Notes:\n",
    "* Correlation with parents may be due to correlation with age, especially with age based assumptions used to split parch\n",
    "  + If using split be sure to exclude initial unsplit categories to ensure linear independence\n",
    "* Might recast age as categorical (i.e. kid, teen, middle age, elderly)"
   ]
  },
  {
   "cell_type": "markdown",
   "metadata": {},
   "source": [
    "### Machine Learning"
   ]
  },
  {
   "cell_type": "code",
   "execution_count": 16,
   "metadata": {},
   "outputs": [],
   "source": [
    "# Numerical transformer pipeline\n",
    "num_features = ['sibsp', 'parch', 'fare', 'age']\n",
    "\n",
    "num_trans = Pipeline([\n",
    "    ('imputer', SimpleImputer(strategy=\"median\")),\n",
    "    #('attribs_adder', CombinedAttributesAdder()),\n",
    "    ('std_scaler', StandardScaler()),\n",
    "])"
   ]
  },
  {
   "cell_type": "code",
   "execution_count": 17,
   "metadata": {},
   "outputs": [],
   "source": [
    "# Categorical transformer pipeline\n",
    "cat_features = ['embarked', 'sex', 'pclass']\n",
    "\n",
    "cat_trans = Pipeline([\n",
    "    ('imputer', SimpleImputer(strategy='constant', fill_value='missing')),\n",
    "    ('onehot', OneHotEncoder(handle_unknown='ignore')),\n",
    "])"
   ]
  },
  {
   "cell_type": "code",
   "execution_count": 18,
   "metadata": {},
   "outputs": [],
   "source": [
    "# Combined preprocessor pipeline\n",
    "preprocessor = ColumnTransformer(transformers=[\n",
    "    ('num', num_trans, num_features),\n",
    "    ('cat', cat_trans, cat_features)\n",
    "])"
   ]
  },
  {
   "cell_type": "code",
   "execution_count": 21,
   "metadata": {},
   "outputs": [],
   "source": [
    "# test of preprocessor pipeline / show processed data??\n",
    "\n",
    "# old num test, remake\n",
    "\n",
    "#X_num = X.loc[:, num_features]\n",
    "#X_num_tr = pd.DataFrame(num_pipeline.fit_transform(X_num), \n",
    "#                        columns=num_features)\n",
    "\n",
    "#X_num_tr"
   ]
  },
  {
   "cell_type": "code",
   "execution_count": 22,
   "metadata": {},
   "outputs": [
    {
     "name": "stdout",
     "output_type": "stream",
     "text": [
      "model score: 0.806\n"
     ]
    }
   ],
   "source": [
    "# Classifier pipeline\n",
    "clf = Pipeline(steps=[('preprocessor', preprocessor),\n",
    "                      ('classifier', LogisticRegression(solver='lbfgs'))])\n",
    "\n",
    "y = np.ravel(data.loc[:, ['survived']])\n",
    "X = data.drop(['survived'], axis=1)  \n",
    "\n",
    "clf.fit(X, y)\n",
    "print(\"model score: %.3f\" % clf.score(X, y))"
   ]
  },
  {
   "cell_type": "code",
   "execution_count": null,
   "metadata": {},
   "outputs": [],
   "source": []
  },
  {
   "cell_type": "code",
   "execution_count": null,
   "metadata": {},
   "outputs": [],
   "source": [
    "# Hyperparameter search\n",
    "param_grid = {\n",
    "    'preprocessor__num__imputer__strategy': ['mean', 'median'],\n",
    "    'classifier__C': [0.1, 1.0, 10, 100],\n",
    "}\n",
    "\n",
    "grid_search = GridSearchCV(clf, param_grid, cv=10, iid=False)\n",
    "grid_search.fit(X_train, y_train)\n",
    "\n",
    "print((\"best logistic regression from grid search: %.3f\"\n",
    "       % grid_search.score(X_test, y_test)))"
   ]
  },
  {
   "cell_type": "code",
   "execution_count": null,
   "metadata": {},
   "outputs": [],
   "source": []
  },
  {
   "cell_type": "code",
   "execution_count": null,
   "metadata": {},
   "outputs": [],
   "source": []
  },
  {
   "cell_type": "code",
   "execution_count": null,
   "metadata": {},
   "outputs": [],
   "source": [
    "# Separate sibsp and parch\n",
    "#   this might be done better with ColumnTransformer\n",
    "\n",
    "# column index\n",
    "age_ix, sibsp_ix, parch_ix = 0, 1, 2\n",
    "\n",
    "class CombinedAttributesAdder(BaseEstimator, TransformerMixin):\n",
    "    ''' Add feature engineered attributes \n",
    "         separate sibsp into sib and sp\n",
    "           assumes if sibsp > 1 or age < age_cutoff sibsp = sib\n",
    "                   else sibsp = sp\n",
    "         \n",
    "         not implemented - separate parch into par and ch\n",
    "           assumes if parch > 2 or age < age_cutoff parch = par; \n",
    "                   else parch = ch\n",
    "    '''\n",
    "    \n",
    "    def __init__(self, age_cutoff=18):   # no *args or **kargs\n",
    "        self.age_cutoff = age_cutoff\n",
    "        \n",
    "    def fit(self, X, y=None):\n",
    "        return self                      # nothing else to do\n",
    "    \n",
    "    def transform(self, X, y=None):\n",
    "        # X is a numpy array here -> can't use pandas\n",
    "        \n",
    "        sib = (((X[:, sibsp_ix] > 1) | (X[:, age_ix] < self.age_cutoff)) * \n",
    "               X[:, sibsp_ix])\n",
    "        \n",
    "        sp = (((X[:, sibsp_ix] <= 1) & (X[:, age_ix] >= self.age_cutoff)) * \n",
    "               X[:, sibsp_ix])\n",
    "        \n",
    "        return np.c_[X, sib, sp]\n",
    "            \n",
    "# Sanity check\n",
    "#X_num_tr.loc[X_num_tr.sib + X_num_tr.sp != X_num_tr.sibsp]"
   ]
  },
  {
   "cell_type": "code",
   "execution_count": null,
   "metadata": {},
   "outputs": [],
   "source": [
    "# Adjust estimated ages?\n",
    "\n",
    "# Add to ColumnTransformer?\n",
    "    ('age_adj', Pipeline([('age_trans', age_trans()),\n",
    "                          ('imput', SimpleImputer(strategy='median')),\n",
    "                          ('std_scaler', StandardScaler())]), \n",
    "                ['age']),\n",
    "\n",
    "# Class for transformation\n",
    "\n",
    "  # test that it's doing something\n",
    "\n",
    "class age_trans(BaseEstimator, TransformerMixin):\n",
    "    ''' Remove the .5 flag from estimated ages in the raw data '''\n",
    "    \n",
    "    def fit(self, X, y=None):\n",
    "        return self                      \n",
    "    \n",
    "    def transform(self, X, y=None):\n",
    "        X['age'] = X.apply(lambda row: np.floor(row.age) if row.age % 1 == 0.5 \n",
    "                           else row.age, axis=1)\n",
    "        return X"
   ]
  }
 ],
 "metadata": {
  "kernelspec": {
   "display_name": "Python 3",
   "language": "python",
   "name": "python3"
  },
  "language_info": {
   "codemirror_mode": {
    "name": "ipython",
    "version": 3
   },
   "file_extension": ".py",
   "mimetype": "text/x-python",
   "name": "python",
   "nbconvert_exporter": "python",
   "pygments_lexer": "ipython3",
   "version": "3.6.3"
  },
  "varInspector": {
   "cols": {
    "lenName": 16,
    "lenType": 16,
    "lenVar": 40
   },
   "kernels_config": {
    "python": {
     "delete_cmd_postfix": "",
     "delete_cmd_prefix": "del ",
     "library": "var_list.py",
     "varRefreshCmd": "print(var_dic_list())"
    },
    "r": {
     "delete_cmd_postfix": ") ",
     "delete_cmd_prefix": "rm(",
     "library": "var_list.r",
     "varRefreshCmd": "cat(var_dic_list()) "
    }
   },
   "types_to_exclude": [
    "module",
    "function",
    "builtin_function_or_method",
    "instance",
    "_Feature"
   ],
   "window_display": false
  }
 },
 "nbformat": 4,
 "nbformat_minor": 2
}
